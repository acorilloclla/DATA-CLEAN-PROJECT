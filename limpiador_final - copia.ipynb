{
 "cells": [
  {
   "cell_type": "code",
   "execution_count": null,
   "metadata": {},
   "outputs": [],
   "source": [
    "import pandas as pd # type: ignore\n",
    "import os\n",
    "import numpy as np # type: ignore"
   ]
  },
  {
   "cell_type": "code",
   "execution_count": null,
   "metadata": {},
   "outputs": [],
   "source": [
    "# Directorio que contiene los archivos Excel\n",
    "directory_path = \"HOJAS_DE_INDEXACION\"\n",
    "\n",
    "# Obtener una lista de todos los archivos en el directorio\n",
    "lista_archivos_excel = [f for f in os.listdir(directory_path) if f.endswith('.xlsx')]\n",
    "\n",
    "# Lista para almacenar los DataFrames\n",
    "lista_dataframes = []\n",
    "\n",
    "# Iterar sobre la lista de archivos y leer cada uno en un DataFrame\n",
    "for archivo in lista_archivos_excel:\n",
    "    ruta_completa = os.path.join(directory_path, archivo)\n",
    "    if os.path.exists(ruta_completa):\n",
    "        df = pd.read_excel(ruta_completa)\n",
    "        lista_dataframes.append(df)\n",
    "    else:\n",
    "        print(f\"El archivo {ruta_completa} no existe\")\n",
    "\n",
    "# Concatenar todos los DataFrames en uno solo\n",
    "df_crudo = pd.concat(lista_dataframes, ignore_index=True)\n",
    "\n",
    "# Mostrar el DataFrame final\n",
    "print(\"DataFrame final:\")\n",
    "print(df_crudo.head())\n",
    "\n",
    "# Guardar el DataFrame final en un archivo Excel (opcional)\n",
    "df_crudo.to_excel(\"data_sin_limpiar.xlsx\", index=False)"
   ]
  },
  {
   "cell_type": "code",
   "execution_count": null,
   "metadata": {},
   "outputs": [],
   "source": [
    "# Información del dataframe\n",
    "df_crudo.info()"
   ]
  },
  {
   "cell_type": "code",
   "execution_count": null,
   "metadata": {},
   "outputs": [],
   "source": []
  },
  {
   "cell_type": "code",
   "execution_count": null,
   "metadata": {},
   "outputs": [],
   "source": [
    "# Eliminar filas con valores nulos en la columna 'Num_problema'\n",
    "df_sin_nulos = df_crudo.dropna(subset=['Num_problema'])\n",
    "\n",
    "# Resetear los índices\n",
    "df_sin_nulos.reset_index(drop=True, inplace=True)\n",
    "\n",
    "# Revisando el DataFrame sin nulos en la Columna \"Num_problema\"\n",
    "df_sin_nulos.head()"
   ]
  },
  {
   "cell_type": "code",
   "execution_count": null,
   "metadata": {},
   "outputs": [],
   "source": [
    "# Información del dataframe\n",
    "df_sin_nulos.info()"
   ]
  },
  {
   "cell_type": "code",
   "execution_count": null,
   "metadata": {},
   "outputs": [],
   "source": [
    "# Revisando si hay preguntas String\n",
    "conteo_string = df_sin_nulos['String'].value_counts(dropna=False)\n",
    "conteo_string"
   ]
  },
  {
   "cell_type": "code",
   "execution_count": null,
   "metadata": {},
   "outputs": [],
   "source": [
    "df_sin_nulos = df_sin_nulos.copy()\n",
    "\n",
    "indices_a_eliminar = df_sin_nulos[(df_sin_nulos['String'] == 'B') | (df_sin_nulos['String'] == 'C')].index\n",
    "\n",
    "df_sin_nulos.drop(indices_a_eliminar, inplace=True)"
   ]
  },
  {
   "cell_type": "code",
   "execution_count": null,
   "metadata": {},
   "outputs": [],
   "source": [
    "df_sin_nulos.head()"
   ]
  },
  {
   "cell_type": "code",
   "execution_count": null,
   "metadata": {},
   "outputs": [],
   "source": [
    "df_sin_nulos.info()"
   ]
  },
  {
   "cell_type": "code",
   "execution_count": null,
   "metadata": {},
   "outputs": [],
   "source": [
    "# Obteniendo solo las columnas requeridas\n",
    "columnas_no_requeridas = ['String', 'TER','OBSERVACIÓN','Unnamed: 11']\n",
    "data = df_sin_nulos.drop(columns = columnas_no_requeridas)\n",
    "data.head()"
   ]
  },
  {
   "cell_type": "code",
   "execution_count": null,
   "metadata": {},
   "outputs": [],
   "source": [
    "# Nuevos nombres para todas las columnas\n",
    "nuevos_nombres = [\n",
    "    'NUM_PROBLEMA', 'COD_PROFESOR',\n",
    "    'COD_CURSO', 'NO_TEMA',\n",
    "    'NRO_SUBTEMA', 'NO_NIVEL',\n",
    "    'CLAVE', 'TIPO_PREG'\n",
    "    ]\n",
    "\n",
    "# Cambiar los nombres de las columnas\n",
    "data.columns = nuevos_nombres\n",
    "\n",
    "# Mostrar los resultados\n",
    "data.head()"
   ]
  },
  {
   "cell_type": "code",
   "execution_count": null,
   "metadata": {},
   "outputs": [],
   "source": [
    "# Casteando columnas\n",
    "\n",
    "# Identificar columnas que son de tipo float\n",
    "columnas_float = data.select_dtypes(include=['float64']).columns\n",
    "\n",
    "# Cambiar el tipo de dato de las columnas float a integer\n",
    "data[columnas_float] = data[columnas_float].astype('Int64')\n",
    "\n",
    "# Identificar columnas que son de tipo float\n",
    "columnas_float = data.select_dtypes(include=['Int64']).columns\n",
    "\n",
    "# Cambiar el tipo de dato de las columnas float a integer\n",
    "data[columnas_float] = data[columnas_float].astype('object')\n",
    "\n",
    "# revisando dataframe casteado\n",
    "data.head(100)"
   ]
  },
  {
   "cell_type": "code",
   "execution_count": null,
   "metadata": {},
   "outputs": [],
   "source": [
    "data.info()"
   ]
  },
  {
   "cell_type": "code",
   "execution_count": null,
   "metadata": {},
   "outputs": [],
   "source": [
    "tema = '00'\n",
    "subtema = '00'\n",
    "nivel = '0'\n",
    "clave = 'X'\n",
    "tipo = 'X'\n",
    "\n",
    "data.loc[data['NO_TEMA'].isna(), 'NO_TEMA'] = tema\n",
    "data.loc[data['NRO_SUBTEMA'].isna(), 'NRO_SUBTEMA'] = subtema\n",
    "data.loc[data['NO_NIVEL'].isna(), 'NO_NIVEL'] = nivel\n",
    "data.loc[data['CLAVE'].isna(), 'CLAVE'] = clave\n",
    "data.loc[data['TIPO_PREG'].isna(), 'TIPO_PREG'] = tipo\n",
    "data.info()"
   ]
  },
  {
   "cell_type": "code",
   "execution_count": null,
   "metadata": {},
   "outputs": [],
   "source": [
    "filtro = data['NRO_SUBTEMA'].isna()\n",
    "data[filtro]"
   ]
  },
  {
   "cell_type": "code",
   "execution_count": null,
   "metadata": {},
   "outputs": [],
   "source": [
    "data.info()"
   ]
  },
  {
   "cell_type": "code",
   "execution_count": null,
   "metadata": {},
   "outputs": [],
   "source": [
    "# Definir una función para eliminar espacios de cualquier valor\n",
    "def strip_spaces(value):\n",
    "    if isinstance(value, str):\n",
    "        return value.strip()\n",
    "    elif isinstance(value, (int, float)):\n",
    "        return value\n",
    "    elif pd.isna(value):\n",
    "        return value\n",
    "    else:\n",
    "        return str(value).strip()"
   ]
  },
  {
   "cell_type": "code",
   "execution_count": null,
   "metadata": {},
   "outputs": [],
   "source": [
    "# Aplicar la función a cada elemento del DataFrame\n",
    "data = data.map(strip_spaces)\n",
    "\n",
    "# Mostrar el DataFrame resultante\n",
    "data.head()"
   ]
  },
  {
   "cell_type": "code",
   "execution_count": null,
   "metadata": {},
   "outputs": [],
   "source": [
    "data.info()"
   ]
  },
  {
   "cell_type": "code",
   "execution_count": null,
   "metadata": {},
   "outputs": [],
   "source": [
    "# Casteando columnas\n",
    "print()\n",
    "# Identificar columnas que son de tipo float\n",
    "columnas_float = data.select_dtypes(include=['float64']).columns\n",
    "\n",
    "# Cambiar el tipo de dato de las columnas float a integer\n",
    "data[columnas_float] = data[columnas_float].astype('Int64')\n",
    "\n",
    "# revisando dataframe casteado\n",
    "data.head()"
   ]
  },
  {
   "cell_type": "code",
   "execution_count": null,
   "metadata": {},
   "outputs": [],
   "source": [
    "# Completando ceros en la columna 'NUM_PROBLEMA' hasta que tenga 6 dígitos\n",
    "\n",
    "data['NUM_PROBLEMA'] = data['NUM_PROBLEMA'].astype(str).str.zfill(6)\n",
    "data.head()"
   ]
  },
  {
   "cell_type": "code",
   "execution_count": null,
   "metadata": {},
   "outputs": [],
   "source": [
    "# Concatenado las columnas 'NO_TEMA' y 'NRO_SUBTEMA'\n",
    "data['COD_TEMARIO'] = data['NO_TEMA'].astype(str).str.zfill(2) + '.' + data['NRO_SUBTEMA'].astype(str).str.zfill(2)\n",
    "\n",
    "# Mostrando DataFrame\n",
    "data.head()"
   ]
  },
  {
   "cell_type": "code",
   "execution_count": null,
   "metadata": {},
   "outputs": [],
   "source": [
    "# Creando una nueva columna con el código string del curso\n",
    "\n",
    "diccionario_significados = {\n",
    "    1: 'AR', 2: 'AL', 3: 'GM',\n",
    "    4: 'TR', 5: 'RM', 6: 'RV',\n",
    "    7: 'FI', 8: 'QU', 9: 'BI',\n",
    "    10: 'AN', 11: 'LE', 12: 'LI',\n",
    "    13: 'IN', 14: 'HP', 15: 'HU',\n",
    "    16: 'GF', 17: 'EC', 18: 'CI',\n",
    "    19: 'PS', 20: 'FL'\n",
    "}\n",
    "\n",
    "data['CURSO'] = data['COD_CURSO'].map(diccionario_significados)\n",
    "\n",
    "data.head()"
   ]
  },
  {
   "cell_type": "code",
   "execution_count": null,
   "metadata": {},
   "outputs": [],
   "source": [
    "# Creando la columna de reemplazo\n",
    "\n",
    "data['REEMPLAZO'] = '@' + data[['NUM_PROBLEMA', 'CURSO','COD_TEMARIO', 'NO_NIVEL', 'CLAVE', 'TIPO_PREG']].astype('str').apply(\" - \".join, axis=1)\n",
    "data.head()"
   ]
  },
  {
   "cell_type": "code",
   "execution_count": null,
   "metadata": {},
   "outputs": [],
   "source": [
    "sin_duplicados_reemplazo = data.drop_duplicates(subset = ['REEMPLAZO'], keep='first')"
   ]
  },
  {
   "cell_type": "code",
   "execution_count": null,
   "metadata": {},
   "outputs": [],
   "source": [
    "sin_duplicados_reemplazo.info()"
   ]
  },
  {
   "cell_type": "code",
   "execution_count": null,
   "metadata": {},
   "outputs": [],
   "source": [
    "sin_duplicados_reemplazo.duplicated('NUM_PROBLEMA').sum()"
   ]
  },
  {
   "cell_type": "code",
   "execution_count": null,
   "metadata": {},
   "outputs": [],
   "source": [
    "# Identificar filas duplicadas en base a la columna 'columna1'\n",
    "duplicados = sin_duplicados_reemplazo[sin_duplicados_reemplazo.duplicated(subset=['NUM_PROBLEMA'], keep=False)]\n",
    "\n",
    "# Resetear los índices del DataFrame de duplicados\n",
    "duplicados.reset_index(drop=True, inplace=True)\n",
    "\n",
    "# Visualizando el nuevo data frame\n",
    "duplicados.head()"
   ]
  },
  {
   "cell_type": "code",
   "execution_count": null,
   "metadata": {},
   "outputs": [],
   "source": [
    "# Información del Dataframe duplicados\n",
    "duplicados.info()"
   ]
  },
  {
   "cell_type": "code",
   "execution_count": null,
   "metadata": {},
   "outputs": [],
   "source": [
    "duplicados_por_problema = duplicados['NUM_PROBLEMA'].value_counts()\n",
    "duplicados_por_problema"
   ]
  },
  {
   "cell_type": "code",
   "execution_count": null,
   "metadata": {},
   "outputs": [],
   "source": [
    "filtro = duplicados['NUM_PROBLEMA'] == '003321'\n",
    "duplicados[filtro]"
   ]
  },
  {
   "cell_type": "code",
   "execution_count": null,
   "metadata": {},
   "outputs": [],
   "source": [
    "columnas_fijas = ['NUM_PROBLEMA', 'REEMPLAZO']\n",
    "\n",
    "matriz = duplicados[columnas_fijas]\n",
    "\n",
    "matriz.head()"
   ]
  },
  {
   "cell_type": "code",
   "execution_count": null,
   "metadata": {},
   "outputs": [],
   "source": [
    "# Asegurarse de que 'matriz' no es una copia antes de modificarla\n",
    "matriz = matriz.copy()\n",
    "\n",
    "# Crear un índice adicional para los valores de la columna 'Valor'\n",
    "matriz.loc[:, 'idx'] = matriz.groupby('NUM_PROBLEMA').cumcount()\n",
    "\n",
    "# Pivotar el DataFrame\n",
    "matriz_duplicados = matriz.pivot(index='NUM_PROBLEMA', columns='idx', values='REEMPLAZO')\n",
    "\n",
    "# Renombrar las columnas si es necesario\n",
    "matriz_duplicados.columns = [f'DUPLICADO_{i+1}' for i in matriz_duplicados.columns]\n",
    "\n",
    "# Resetear el índice para convertir el índice 'ID' en una columna\n",
    "matriz_duplicados.reset_index(inplace=True)\n",
    "\n",
    "# Mostrar el DataFrame pivotado\n",
    "matriz_duplicados.head()"
   ]
  },
  {
   "cell_type": "code",
   "execution_count": null,
   "metadata": {},
   "outputs": [],
   "source": [
    "# Definir una función para comparar los valores en una fila\n",
    "def comparar_fila(row):\n",
    "    if row.nunique() == 1:\n",
    "        return 'IGUALES'\n",
    "    else:\n",
    "        return 'DIFERENTES'\n",
    "    \n",
    "# Seleccionar todas las columnas excepto 'ID' para la comparación\n",
    "columnas_a_comparar = matriz_duplicados.columns.difference(['NUM_PROBLEMA'])\n",
    "\n",
    "columnas_a_comparar"
   ]
  },
  {
   "cell_type": "code",
   "execution_count": null,
   "metadata": {},
   "outputs": [],
   "source": [
    "# Aplicar la función a cada fila del DataFrame para las columnas de interés\n",
    "matriz_duplicados['COMPARACION'] = matriz_duplicados[columnas_a_comparar].apply(comparar_fila, axis=1)"
   ]
  },
  {
   "cell_type": "code",
   "execution_count": null,
   "metadata": {},
   "outputs": [],
   "source": [
    "matriz_duplicados.head()"
   ]
  },
  {
   "cell_type": "code",
   "execution_count": null,
   "metadata": {},
   "outputs": [],
   "source": [
    "matriz_duplicados['COMPARACION'].value_counts()"
   ]
  },
  {
   "cell_type": "code",
   "execution_count": null,
   "metadata": {},
   "outputs": [],
   "source": [
    "cruce = pd.merge(sin_duplicados_reemplazo, matriz_duplicados, on='NUM_PROBLEMA', how='outer')\n",
    "cruce.head()"
   ]
  },
  {
   "cell_type": "code",
   "execution_count": null,
   "metadata": {},
   "outputs": [],
   "source": [
    "proporcion = cruce['COMPARACION'].value_counts(dropna = False)\n",
    "proporcion"
   ]
  },
  {
   "cell_type": "code",
   "execution_count": null,
   "metadata": {},
   "outputs": [],
   "source": [
    "# Mask\n",
    "\n",
    "diferentes = cruce['COMPARACION'] == 'DIFERENTES'"
   ]
  },
  {
   "cell_type": "code",
   "execution_count": null,
   "metadata": {},
   "outputs": [],
   "source": [
    "duplicados_diferentes = cruce[diferentes]\n",
    "duplicados_diferentes.head()"
   ]
  },
  {
   "cell_type": "code",
   "execution_count": null,
   "metadata": {},
   "outputs": [],
   "source": [
    "duplicados_diferentes.info()"
   ]
  },
  {
   "cell_type": "code",
   "execution_count": null,
   "metadata": {},
   "outputs": [],
   "source": [
    "duplicados_diferentes.to_excel(\"duplicados_diferentes.xlsx\", index = False)"
   ]
  },
  {
   "cell_type": "code",
   "execution_count": null,
   "metadata": {},
   "outputs": [],
   "source": [
    "unicos = ~ diferentes\n",
    "registros_unicos = cruce[unicos]\n",
    "\n",
    "registros_unicos.head()"
   ]
  },
  {
   "cell_type": "code",
   "execution_count": null,
   "metadata": {},
   "outputs": [],
   "source": [
    "registros_unicos.info()"
   ]
  },
  {
   "cell_type": "code",
   "execution_count": null,
   "metadata": {},
   "outputs": [],
   "source": [
    "valor_unico = 'UNICO'\n",
    "\n",
    "registros_unicos.loc[:, 'COMPARACION'] = valor_unico\n",
    "\n",
    "registros_unicos.head()"
   ]
  },
  {
   "cell_type": "code",
   "execution_count": null,
   "metadata": {},
   "outputs": [],
   "source": [
    "registros_unicos.info()"
   ]
  },
  {
   "cell_type": "code",
   "execution_count": null,
   "metadata": {},
   "outputs": [],
   "source": [
    "registros_unicos.to_excel(\"registros_unicos.xlsx\", index = False)"
   ]
  },
  {
   "cell_type": "code",
   "execution_count": null,
   "metadata": {},
   "outputs": [],
   "source": [
    "from extractor_final import extraer\n",
    "\n",
    "extraer()"
   ]
  },
  {
   "cell_type": "code",
   "execution_count": null,
   "metadata": {},
   "outputs": [],
   "source": [
    "# Cargar el archivo Excel\n",
    "no_indexada = pd.read_excel(\"extraccion.xlsx\")\n",
    "\n",
    "# Remover caracteres no numéricos y espacios en blanco\n",
    "no_indexada['PROBLEMA'] = no_indexada['PROBLEMA'].astype(str).str.strip().str.replace(r'\\D', '', regex=True)\n",
    "\n",
    "# Filtrar valores numéricos y conservar ceros iniciales\n",
    "df_filtrada = no_indexada[no_indexada['PROBLEMA'].str.isdigit()].copy()\n",
    "\n",
    "# Resetear el índice del DataFrame filtrado\n",
    "df_filtrada.reset_index(drop=True, inplace=True)\n",
    "\n",
    "# Guardar el DataFrame filtrado en un nuevo archivo Excel (opcional)\n",
    "ruta_de_salida = \"codigos_no_indexados.xlsx\"  # Reemplaza con la ruta correcta para guardar el archivo\n",
    "df_filtrada.to_excel(ruta_de_salida, index=False)"
   ]
  },
  {
   "cell_type": "code",
   "execution_count": null,
   "metadata": {},
   "outputs": [],
   "source": [
    "df_filtrada.head()"
   ]
  },
  {
   "cell_type": "code",
   "execution_count": null,
   "metadata": {},
   "outputs": [],
   "source": [
    "df_filtrada.info()"
   ]
  },
  {
   "cell_type": "code",
   "execution_count": null,
   "metadata": {},
   "outputs": [],
   "source": [
    "df_filtrada.drop_duplicates(inplace = True)\n",
    "\n",
    "df_filtrada.head()"
   ]
  },
  {
   "cell_type": "code",
   "execution_count": null,
   "metadata": {},
   "outputs": [],
   "source": [
    "df_filtrada.info()"
   ]
  },
  {
   "cell_type": "code",
   "execution_count": null,
   "metadata": {},
   "outputs": [],
   "source": [
    "seis_digitos = df_filtrada[df_filtrada['PROBLEMA'].str.match(r'^\\d{6}$')]\n",
    "seis_digitos.head()"
   ]
  },
  {
   "cell_type": "code",
   "execution_count": null,
   "metadata": {},
   "outputs": [],
   "source": [
    "seis_digitos.info()"
   ]
  },
  {
   "cell_type": "code",
   "execution_count": null,
   "metadata": {},
   "outputs": [],
   "source": [
    "seis_digitos = seis_digitos.copy()\n",
    "\n",
    "seis_digitos.rename(columns={'PROBLEMA': 'NUM_PROBLEMA'}, inplace=True)\n",
    "\n",
    "seis_digitos.head()"
   ]
  },
  {
   "cell_type": "code",
   "execution_count": null,
   "metadata": {},
   "outputs": [],
   "source": [
    "full_data_6= pd.merge(registros_unicos, seis_digitos, on='NUM_PROBLEMA', how='outer')"
   ]
  },
  {
   "cell_type": "code",
   "execution_count": null,
   "metadata": {},
   "outputs": [],
   "source": [
    "full_data_6.head(100)"
   ]
  },
  {
   "cell_type": "code",
   "execution_count": null,
   "metadata": {},
   "outputs": [],
   "source": [
    "full_data_6.info()"
   ]
  },
  {
   "cell_type": "code",
   "execution_count": null,
   "metadata": {},
   "outputs": [],
   "source": [
    "curso = input(\"ingrese el curso\")\n",
    "\n",
    "relleno = '@' + full_data_6['NUM_PROBLEMA'] + ' - ' + curso + ' - ' + '00.00' + ' - ' + '0' + ' - ' + 'X' + ' - ' + 'X'\n",
    "\n",
    "full_data_6.loc[full_data_6['REEMPLAZO'].isna(), 'REEMPLAZO'] = relleno\n",
    "\n",
    "full_data_6.head()"
   ]
  },
  {
   "cell_type": "code",
   "execution_count": null,
   "metadata": {},
   "outputs": [],
   "source": [
    "full_data_6.reset_index(drop=True, inplace=True)\n",
    "full_data_6.head()"
   ]
  },
  {
   "cell_type": "code",
   "execution_count": null,
   "metadata": {},
   "outputs": [],
   "source": [
    "filtro = full_data_6['COMPARACION'] != 'UNICO'\n",
    "\n",
    "data_con_seis = full_data_6[filtro]\n",
    "\n",
    "data_con_seis.head()"
   ]
  },
  {
   "cell_type": "code",
   "execution_count": null,
   "metadata": {},
   "outputs": [],
   "source": [
    "data_con_seis.info()"
   ]
  },
  {
   "cell_type": "code",
   "execution_count": null,
   "metadata": {},
   "outputs": [],
   "source": [
    "filtro = df_filtrada['PROBLEMA'].str.match(r'^\\d{6}$')\n",
    "\n",
    "data_hasta_5 = df_filtrada[~ filtro]\n",
    "\n",
    "data_hasta_5.head()"
   ]
  },
  {
   "cell_type": "code",
   "execution_count": null,
   "metadata": {},
   "outputs": [],
   "source": [
    "data_hasta_5 = data_hasta_5.copy()\n",
    "\n",
    "data_hasta_5['REEMPLAZO'] = '@' + data_hasta_5['PROBLEMA']\n",
    "\n",
    "data_hasta_5.head()"
   ]
  },
  {
   "cell_type": "code",
   "execution_count": null,
   "metadata": {},
   "outputs": [],
   "source": [
    "data_hasta_5.rename(columns={'PROBLEMA': 'NUM_PROBLEMA'}, inplace=True)\n",
    "\n",
    "data_hasta_5.head()"
   ]
  },
  {
   "cell_type": "code",
   "execution_count": null,
   "metadata": {},
   "outputs": [],
   "source": [
    "# Concatenar los DataFrames en base a las columnas 'ID' y 'NUM_PROBLEMA'\n",
    "df_final = pd.merge(full_data_6, data_hasta_5, on=['NUM_PROBLEMA', 'REEMPLAZO'], how='outer')\n",
    "\n",
    "# Resetear el índice del DataFrame concatenado\n",
    "df_final.reset_index(drop=True, inplace=True)\n",
    "\n",
    "# Mostrando del DataFrame\n",
    "df_final.head(100)"
   ]
  },
  {
   "cell_type": "code",
   "execution_count": null,
   "metadata": {},
   "outputs": [],
   "source": [
    "df_final.info()"
   ]
  },
  {
   "cell_type": "code",
   "execution_count": null,
   "metadata": {},
   "outputs": [],
   "source": [
    "df_final.to_excel('data_final.xlsx', index = False)"
   ]
  },
  {
   "cell_type": "code",
   "execution_count": null,
   "metadata": {},
   "outputs": [],
   "source": [
    "input(\"DALE GOOO!!!!\")"
   ]
  },
  {
   "cell_type": "markdown",
   "metadata": {},
   "source": [
    "## PRIMER REEMPLAZO"
   ]
  },
  {
   "cell_type": "code",
   "execution_count": null,
   "metadata": {},
   "outputs": [],
   "source": [
    "from pathlib import Path  # core python module\n",
    "import win32com.client  # type: ignore # pip install pywin32\n",
    "\n",
    "# Path settings\n",
    "current_dir = Path(__file__).parent if \"__file__\" in locals() else Path.cwd()\n",
    "input_dir = current_dir / \"INPUT\"\n",
    "output_dir = current_dir / \"OUTPUT\"\n",
    "output_dir.mkdir(parents=True, exist_ok=True)\n",
    "\n",
    "\n",
    "# Creando el diccionario\n",
    "diccionario = full_data_6[['NUM_PROBLEMA', 'REEMPLAZO']].set_index('NUM_PROBLEMA')['REEMPLAZO'].to_dict()\n",
    "\n",
    "\n",
    "word_app = win32com.client.DispatchEx(\"Word.Application\")\n",
    "word_app.Visible = False\n",
    "word_app.DisplayAlerts = False\n",
    "\n",
    "\n",
    "for doc_file in Path(input_dir).rglob(\"*.doc*\"):\n",
    "\n",
    "    for word, replacement in diccionario.items():\n",
    "        \n",
    "        find_str = word\n",
    "        replace_with = replacement \n",
    "        wd_replace = 2  # 2=replace all occurences, 1=replace one occurence, 0=replace no occurences\n",
    "        wd_find_wrap = 1  # 2=ask to continue, 1=continue search, 0=end if search range is reached\n",
    "\n",
    "        # Open each document and replace string\n",
    "        word_app.Documents.Open(str(doc_file))\n",
    "        # API documentation: https://learn.microsoft.com/en-us/office/vba/api/word.find.execute\n",
    "        word_app.Selection.Find.Execute(\n",
    "            FindText=find_str,\n",
    "            ReplaceWith=replace_with,\n",
    "            Replace=wd_replace,\n",
    "            Forward=True,\n",
    "            MatchCase=True,\n",
    "            MatchWholeWord=False,\n",
    "            MatchWildcards=True,\n",
    "            MatchSoundsLike=False,\n",
    "            MatchAllWordForms=False,\n",
    "            Wrap=wd_find_wrap,\n",
    "            Format=True,\n",
    "        )\n",
    "\n",
    "    # Save the new file\n",
    "    output_path = output_dir / f\"{doc_file.stem}_replaced{doc_file.suffix}\"\n",
    "    word_app.ActiveDocument.SaveAs(str(output_path))\n",
    "    word_app.ActiveDocument.Close(SaveChanges=False)\n",
    "word_app.Application.Quit()"
   ]
  },
  {
   "cell_type": "markdown",
   "metadata": {},
   "source": [
    "## SEGUNDO REEMPLAZO"
   ]
  },
  {
   "cell_type": "markdown",
   "metadata": {},
   "source": [
    "from pathlib import Path\n",
    "import win32com.client  # type: ignore # pip install pywin32\n",
    "\n",
    "# Path settings\n",
    "current_dir = Path(__file__).parent if \"__file__\" in locals() else Path.cwd()\n",
    "input_dir = current_dir / \"OUTPUT\"\n",
    "output_dir = current_dir / \"REEMPLAZO_TOTAL\"\n",
    "output_dir.mkdir(parents=True, exist_ok=True)\n",
    "\n",
    "# Creando el diccionario\n",
    "diccionario = data_mala_final[['NUM_PROBLEMA', 'REEMPLAZO']].set_index('NUM_PROBLEMA')['REEMPLAZO'].to_dict()\n",
    "\n",
    "# Iniciar la aplicación de Word\n",
    "word_app = win32com.client.DispatchEx(\"Word.Application\")\n",
    "word_app.Visible = False\n",
    "word_app.DisplayAlerts = False\n",
    "\n",
    "for doc_file in Path(input_dir).rglob(\"*.doc*\"):\n",
    "    # Abrir cada documento\n",
    "    doc = word_app.Documents.Open(str(doc_file))\n",
    "    \n",
    "    for word, replacement in diccionario.items():\n",
    "        # Condición para omitir números que comiencen con \"@\"\n",
    "        if not word.startswith('@'):\n",
    "            find_str = word\n",
    "            replace_with = replacement \n",
    "            wd_replace = 2  # 2=replace all occurences, 1=replace one occurence, 0=replace no occurences\n",
    "            wd_find_wrap = 1  # 2=ask to continue, 1=continue search, 0=end if search range is reached\n",
    "\n",
    "            # Reemplazar texto en el documento\n",
    "            word_app.Selection.Find.Execute(\n",
    "                FindText=find_str,\n",
    "                ReplaceWith=replace_with,\n",
    "                Replace=wd_replace,\n",
    "                Forward=True,\n",
    "                MatchCase=True,\n",
    "                MatchWholeWord=False,\n",
    "                MatchWildcards=True,\n",
    "                MatchSoundsLike=False,\n",
    "                MatchAllWordForms=False,\n",
    "                Wrap=wd_find_wrap,\n",
    "                Format=True,\n",
    "            )\n",
    "\n",
    "    # Guardar el nuevo archivo\n",
    "    output_path = output_dir / f\"{doc_file.stem}_final{doc_file.suffix}\"\n",
    "    doc.SaveAs(str(output_path))\n",
    "    doc.Close(SaveChanges=False)\n",
    "\n",
    "# Cerrar la aplicación de Word\n",
    "word_app.Application.Quit()"
   ]
  },
  {
   "cell_type": "code",
   "execution_count": null,
   "metadata": {},
   "outputs": [],
   "source": []
  },
  {
   "cell_type": "code",
   "execution_count": null,
   "metadata": {},
   "outputs": [],
   "source": []
  },
  {
   "cell_type": "code",
   "execution_count": null,
   "metadata": {},
   "outputs": [],
   "source": []
  },
  {
   "cell_type": "code",
   "execution_count": null,
   "metadata": {},
   "outputs": [],
   "source": []
  },
  {
   "cell_type": "code",
   "execution_count": null,
   "metadata": {},
   "outputs": [],
   "source": []
  },
  {
   "cell_type": "code",
   "execution_count": null,
   "metadata": {},
   "outputs": [],
   "source": []
  },
  {
   "cell_type": "code",
   "execution_count": null,
   "metadata": {},
   "outputs": [],
   "source": []
  }
 ],
 "metadata": {
  "kernelspec": {
   "display_name": "Python 3",
   "language": "python",
   "name": "python3"
  },
  "language_info": {
   "codemirror_mode": {
    "name": "ipython",
    "version": 3
   },
   "file_extension": ".py",
   "mimetype": "text/x-python",
   "name": "python",
   "nbconvert_exporter": "python",
   "pygments_lexer": "ipython3",
   "version": "3.12.3"
  }
 },
 "nbformat": 4,
 "nbformat_minor": 2
}
